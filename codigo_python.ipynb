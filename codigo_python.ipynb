{
 "cells": [
  {
   "cell_type": "code",
   "execution_count": 12,
   "id": "08af2316",
   "metadata": {},
   "outputs": [],
   "source": [
    "\"\"\"\n",
    "Parte 1) Data cleaning y Data preparation\n",
    "- En este apartado prepararemos la data para nuestro trabajo\n",
    "- Debemos instalar las librerías correspondientes (fuzz principalmente)\n",
    "    - pip install thefuzz\n",
    "\n",
    "\"\"\"\n",
    "\n",
    "# Cargamos las librerías\n",
    "import os\n",
    "import pandas as pd\n",
    "from thefuzz import fuzz, process   \n"
   ]
  },
  {
   "cell_type": "code",
   "execution_count": 13,
   "id": "b59d0cdd",
   "metadata": {},
   "outputs": [],
   "source": [
    "# Cargamos los datos\n",
    "df_ventas = pd.read_csv(\"Ventas.csv\")\n",
    "df_vendedores = pd.read_csv(\"Vendedores.csv\")"
   ]
  },
  {
   "cell_type": "code",
   "execution_count": 14,
   "id": "97847f38",
   "metadata": {},
   "outputs": [],
   "source": [
    "# Convertimos los nombres de las empresas a minúsculas para evitar problemas de formato\n",
    "df_ventas[\"empresa\"] = df_ventas[\"empresa\"].str.lower().str.strip()\n",
    "df_vendedores[\"empresa\"] = df_vendedores[\"empresa\"].str.lower().str.strip()"
   ]
  },
  {
   "cell_type": "code",
   "execution_count": null,
   "id": "ab0d05a6",
   "metadata": {},
   "outputs": [],
   "source": [
    "\n",
    "# Creamos una función para encontrar la mejor coincidencia\n",
    "# Le entregamos un nombre, y en la lista de nombres nos busca el nombre más similar\n",
    "def encontrar_mejor_match(nombre, lista_empresas):\n",
    "    mejor_match, score = process.extractOne(nombre, lista_empresas, scorer=fuzz.token_sort_ratio)\n",
    "    # Entrega la mejor coincidencia(mejor nombre de la lista de nombres) y la puntuación obtenida\n",
    "    return mejor_match if score > 30 else None\n"
   ]
  },
  {
   "cell_type": "code",
   "execution_count": 16,
   "id": "88aad6e7",
   "metadata": {},
   "outputs": [],
   "source": [
    "# Aplicamos la función para encontrar la mejor coincidencia\n",
    "# Creamos una nueva columna llamada \"empresa_corregida\"\n",
    "# Aplicamos la función sobre df_ventas[\"empresa\"] (Esta es la columna que tiene errores)\n",
    "# apply aplica la función en cada fila de la columna indicada, es decir, va fila a fila evaluando\n",
    "# x representa el nombre de la empresa en df_ventas[\"empresa\"]\n",
    "# x va tomando el valor de cada fila dentro de la columna df_ventas[\"empresa\"]\n",
    "df_ventas[\"empresa_corregida\"] = df_ventas[\"empresa\"].apply(lambda x: encontrar_mejor_match(x, df_vendedores[\"empresa\"].tolist()))\n"
   ]
  },
  {
   "cell_type": "code",
   "execution_count": 17,
   "id": "c736f39b",
   "metadata": {},
   "outputs": [
    {
     "data": {
      "text/html": [
       "<div>\n",
       "<style scoped>\n",
       "    .dataframe tbody tr th:only-of-type {\n",
       "        vertical-align: middle;\n",
       "    }\n",
       "\n",
       "    .dataframe tbody tr th {\n",
       "        vertical-align: top;\n",
       "    }\n",
       "\n",
       "    .dataframe thead th {\n",
       "        text-align: right;\n",
       "    }\n",
       "</style>\n",
       "<table border=\"1\" class=\"dataframe\">\n",
       "  <thead>\n",
       "    <tr style=\"text-align: right;\">\n",
       "      <th></th>\n",
       "      <th>id_venta</th>\n",
       "      <th>empresa</th>\n",
       "      <th>monto</th>\n",
       "      <th>fecha</th>\n",
       "      <th>empresa_corregida</th>\n",
       "    </tr>\n",
       "  </thead>\n",
       "  <tbody>\n",
       "    <tr>\n",
       "      <th>0</th>\n",
       "      <td>1</td>\n",
       "      <td>data insights</td>\n",
       "      <td>3313.73</td>\n",
       "      <td>2024-01-01</td>\n",
       "      <td>data insights</td>\n",
       "    </tr>\n",
       "    <tr>\n",
       "      <th>1</th>\n",
       "      <td>2</td>\n",
       "      <td>snoitulos hcet</td>\n",
       "      <td>4010.69</td>\n",
       "      <td>2024-01-02</td>\n",
       "      <td>quantum solutions</td>\n",
       "    </tr>\n",
       "    <tr>\n",
       "      <th>2</th>\n",
       "      <td>3</td>\n",
       "      <td>cyberworks</td>\n",
       "      <td>3270.05</td>\n",
       "      <td>2024-01-03</td>\n",
       "      <td>cyberworks</td>\n",
       "    </tr>\n",
       "    <tr>\n",
       "      <th>3</th>\n",
       "      <td>4</td>\n",
       "      <td>inn0vatech</td>\n",
       "      <td>2208.82</td>\n",
       "      <td>2024-01-04</td>\n",
       "      <td>innovatech</td>\n",
       "    </tr>\n",
       "    <tr>\n",
       "      <th>4</th>\n",
       "      <td>5</td>\n",
       "      <td>ai dvelopments</td>\n",
       "      <td>1674.25</td>\n",
       "      <td>2024-01-05</td>\n",
       "      <td>ai developments</td>\n",
       "    </tr>\n",
       "  </tbody>\n",
       "</table>\n",
       "</div>"
      ],
      "text/plain": [
       "   id_venta         empresa    monto       fecha  empresa_corregida\n",
       "0         1   data insights  3313.73  2024-01-01      data insights\n",
       "1         2  snoitulos hcet  4010.69  2024-01-02  quantum solutions\n",
       "2         3      cyberworks  3270.05  2024-01-03         cyberworks\n",
       "3         4      inn0vatech  2208.82  2024-01-04         innovatech\n",
       "4         5  ai dvelopments  1674.25  2024-01-05    ai developments"
      ]
     },
     "execution_count": 17,
     "metadata": {},
     "output_type": "execute_result"
    }
   ],
   "source": [
    "# Revisamos cómo quedó la data luego de la creación de la columna corregida\n",
    "df_ventas.head()\n",
    "# Veremos que hay varios casos que no cruzan, y si bajamos el porcentaje de precisión?\n",
    "# Repitamos todo nuevamente al final del código, pero con un umbral menor"
   ]
  },
  {
   "cell_type": "code",
   "execution_count": 18,
   "id": "9f67e8dd",
   "metadata": {},
   "outputs": [],
   "source": [
    "df_final = df_ventas.merge(df_vendedores, left_on=\"empresa_corregida\", right_on=\"empresa\", how=\"left\").drop(columns=[\"empresa_y\"])"
   ]
  },
  {
   "cell_type": "code",
   "execution_count": 19,
   "id": "457a189d",
   "metadata": {},
   "outputs": [
    {
     "data": {
      "text/html": [
       "<div>\n",
       "<style scoped>\n",
       "    .dataframe tbody tr th:only-of-type {\n",
       "        vertical-align: middle;\n",
       "    }\n",
       "\n",
       "    .dataframe tbody tr th {\n",
       "        vertical-align: top;\n",
       "    }\n",
       "\n",
       "    .dataframe thead th {\n",
       "        text-align: right;\n",
       "    }\n",
       "</style>\n",
       "<table border=\"1\" class=\"dataframe\">\n",
       "  <thead>\n",
       "    <tr style=\"text-align: right;\">\n",
       "      <th></th>\n",
       "      <th>id_venta</th>\n",
       "      <th>empresa_x</th>\n",
       "      <th>monto</th>\n",
       "      <th>fecha</th>\n",
       "      <th>empresa_corregida</th>\n",
       "      <th>id_vendedor</th>\n",
       "      <th>vendedor</th>\n",
       "    </tr>\n",
       "  </thead>\n",
       "  <tbody>\n",
       "    <tr>\n",
       "      <th>0</th>\n",
       "      <td>1</td>\n",
       "      <td>data insights</td>\n",
       "      <td>3313.73</td>\n",
       "      <td>2024-01-01</td>\n",
       "      <td>data insights</td>\n",
       "      <td>6</td>\n",
       "      <td>Vendedor 6</td>\n",
       "    </tr>\n",
       "    <tr>\n",
       "      <th>1</th>\n",
       "      <td>2</td>\n",
       "      <td>snoitulos hcet</td>\n",
       "      <td>4010.69</td>\n",
       "      <td>2024-01-02</td>\n",
       "      <td>quantum solutions</td>\n",
       "      <td>8</td>\n",
       "      <td>Vendedor 8</td>\n",
       "    </tr>\n",
       "    <tr>\n",
       "      <th>2</th>\n",
       "      <td>3</td>\n",
       "      <td>cyberworks</td>\n",
       "      <td>3270.05</td>\n",
       "      <td>2024-01-03</td>\n",
       "      <td>cyberworks</td>\n",
       "      <td>10</td>\n",
       "      <td>Vendedor 10</td>\n",
       "    </tr>\n",
       "    <tr>\n",
       "      <th>3</th>\n",
       "      <td>4</td>\n",
       "      <td>inn0vatech</td>\n",
       "      <td>2208.82</td>\n",
       "      <td>2024-01-04</td>\n",
       "      <td>innovatech</td>\n",
       "      <td>2</td>\n",
       "      <td>Vendedor 2</td>\n",
       "    </tr>\n",
       "    <tr>\n",
       "      <th>4</th>\n",
       "      <td>5</td>\n",
       "      <td>ai dvelopments</td>\n",
       "      <td>1674.25</td>\n",
       "      <td>2024-01-05</td>\n",
       "      <td>ai developments</td>\n",
       "      <td>7</td>\n",
       "      <td>Vendedor 7</td>\n",
       "    </tr>\n",
       "  </tbody>\n",
       "</table>\n",
       "</div>"
      ],
      "text/plain": [
       "   id_venta       empresa_x    monto       fecha  empresa_corregida  \\\n",
       "0         1   data insights  3313.73  2024-01-01      data insights   \n",
       "1         2  snoitulos hcet  4010.69  2024-01-02  quantum solutions   \n",
       "2         3      cyberworks  3270.05  2024-01-03         cyberworks   \n",
       "3         4      inn0vatech  2208.82  2024-01-04         innovatech   \n",
       "4         5  ai dvelopments  1674.25  2024-01-05    ai developments   \n",
       "\n",
       "   id_vendedor     vendedor  \n",
       "0            6   Vendedor 6  \n",
       "1            8   Vendedor 8  \n",
       "2           10  Vendedor 10  \n",
       "3            2   Vendedor 2  \n",
       "4            7   Vendedor 7  "
      ]
     },
     "execution_count": 19,
     "metadata": {},
     "output_type": "execute_result"
    }
   ],
   "source": [
    "df_final.head()"
   ]
  },
  {
   "cell_type": "code",
   "execution_count": 20,
   "id": "d0113eae",
   "metadata": {},
   "outputs": [],
   "source": [
    "# Renombramos las columnas para ordenar lo que llevamos\n",
    "df_final.rename(columns={\"empresa_x\": \"empresa_original\", \"empresa_corregida\": \"empresa_correcta\"}, inplace=True)\n"
   ]
  },
  {
   "cell_type": "code",
   "execution_count": 21,
   "id": "bf08edac",
   "metadata": {},
   "outputs": [],
   "source": [
    "# Filtramos los registros sin coincidencia\n",
    "df_sin_match = df_final[df_final[\"empresa_correcta\"].isna()]"
   ]
  },
  {
   "cell_type": "code",
   "execution_count": 22,
   "id": "5b1c6f3a",
   "metadata": {},
   "outputs": [],
   "source": [
    "# Guardamos los resultados en un CSV en la carpeta original\n",
    "df_final.to_csv(\"resultados_cruce.csv\", index=False)\n",
    "df_sin_match.to_csv(\"registros_sin_cruce.csv\", index=False)\n"
   ]
  },
  {
   "cell_type": "code",
   "execution_count": 23,
   "id": "c974fd12",
   "metadata": {},
   "outputs": [],
   "source": [
    "\"\"\"\n",
    "Parte 2) Data Reporting y Data Visualization\n",
    "\n",
    "- Debemos instalar las librerías correspondientes (fpdf principalmente)\n",
    "    - pip install fpdf \n",
    "\"\"\"\n",
    "import matplotlib.pyplot as plt\n",
    "from fpdf import FPDF\n",
    "import pandas as pd\n",
    "from datetime import datetime\n"
   ]
  },
  {
   "cell_type": "code",
   "execution_count": 24,
   "id": "44765194",
   "metadata": {},
   "outputs": [],
   "source": [
    "# 1. Calculamos el monto vendido por empresa\n",
    "# Crearemos una nueva data con la información necesaria, ya que la necesitaremos para las gráficas\n",
    "ventas_por_empresa = df_final.groupby(\"empresa_correcta\")[\"monto\"].sum().reset_index()\n",
    "ventas_por_empresa = ventas_por_empresa.dropna().sort_values(by=\"monto\", ascending=False)"
   ]
  },
  {
   "cell_type": "code",
   "execution_count": 25,
   "id": "ad367b76",
   "metadata": {},
   "outputs": [],
   "source": [
    "# 2. Calculamos el monto vendido por vendedor\n",
    "# Crearemos una nueva data con la información necesaria, ya que la necesitaremos para las gráficas\n",
    "ventas_por_vendedor = df_final.groupby(\"vendedor\")[\"monto\"].sum().reset_index()\n",
    "ventas_por_vendedor = ventas_por_vendedor.dropna().sort_values(by=\"monto\", ascending=False)"
   ]
  },
  {
   "cell_type": "code",
   "execution_count": 26,
   "id": "f77de457",
   "metadata": {},
   "outputs": [],
   "source": [
    "# 3. Creamos gráficos y los guardamos\n",
    "# Monto vendido por empresa\n",
    "plt.figure(figsize=(10, 5))\n",
    "plt.barh(ventas_por_empresa[\"empresa_correcta\"], ventas_por_empresa[\"monto\"], color='skyblue')\n",
    "plt.xlabel(\"Monto Vendido\")\n",
    "plt.ylabel(\"Empresa\")\n",
    "plt.title(\"Monto Vendido por Empresa\")\n",
    "plt.gca().invert_yaxis() # Invierte el orden de los valores de la gráfica\n",
    "plt.savefig(\"ventas_por_empresa.png\", bbox_inches='tight')  # Guardar imagen y elimina espacios en blanco\n",
    "plt.close()"
   ]
  },
  {
   "cell_type": "code",
   "execution_count": 27,
   "id": "e943f336",
   "metadata": {},
   "outputs": [],
   "source": [
    "# Monto vendido por vendedor\n",
    "plt.figure(figsize=(10, 5))\n",
    "plt.barh(ventas_por_vendedor[\"vendedor\"], ventas_por_vendedor[\"monto\"], color='orange')\n",
    "plt.xlabel(\"Monto Vendido\")\n",
    "plt.ylabel(\"Vendedor\")\n",
    "plt.title(\"Monto Vendido por Vendedor\")\n",
    "plt.gca().invert_yaxis() # Invierte el orden de los valores de la gráfica\n",
    "plt.savefig(\"ventas_por_vendedor.png\", bbox_inches='tight')  # Guardar imagen y elimina espacios en blanco\n",
    "plt.close()"
   ]
  },
  {
   "cell_type": "code",
   "execution_count": 28,
   "id": "1233c01f",
   "metadata": {},
   "outputs": [],
   "source": [
    "# 4. Creamos el PDF\n",
    "pdf = FPDF() # Crea un objeto PDF vacío\n",
    "pdf.set_auto_page_break(auto=True, margin=15) #Añade nuevas páginas si es necesario, con un margen de 15\n",
    "pdf.add_page() #Añade una nueva página al PDF, es obligatorio"
   ]
  },
  {
   "cell_type": "code",
   "execution_count": 29,
   "id": "9e0a1e29",
   "metadata": {},
   "outputs": [],
   "source": [
    "# 5. Agregamos el título al PDF\n",
    "pdf.set_font(\"Arial\", style=\"B\", size=16) # Fuente Arial, negrita, de tamaño 16\n",
    "fecha_hora_actual = datetime.now().strftime(\"%Y-%m-%d %H:%M:%S\")\n",
    "titulo = f\"Reporte de Ventas - {fecha_hora_actual}\""
   ]
  },
  {
   "cell_type": "code",
   "execution_count": 30,
   "id": "854e7c46",
   "metadata": {},
   "outputs": [],
   "source": [
    "pdf.cell(200, 10, titulo, ln=True, align=\"C\") # Crea una celda con el texto\n",
    "# Ancho, alto, texto, salto de línea, centrado\n",
    "pdf.ln(10) # Añade un espacio en blanco de 10"
   ]
  },
  {
   "cell_type": "code",
   "execution_count": 31,
   "id": "5550a914",
   "metadata": {},
   "outputs": [],
   "source": [
    "# 6. Agregamos la tabla de ventas por empresa\n",
    "# Añadimos el título a la tabla                                                             a la tabla\n",
    "pdf.set_font(\"Arial\", size=12)\n",
    "pdf.cell(200, 10, \"Monto Vendido por Empresa\", ln=True, align=\"C\")\n",
    "pdf.ln(5) # Añade un espacio en blanco de 5"
   ]
  },
  {
   "cell_type": "code",
   "execution_count": 32,
   "id": "5933be56",
   "metadata": {},
   "outputs": [],
   "source": [
    "# Vamos celda por celda añadiendo los valores que necesitamos\n",
    "# Es importante entender que estamos trabajando con celdas y las vamos rellenando\n",
    "# Cada fila de la data se va añadiendo a una nueva celda\n",
    "for index, row in ventas_por_empresa.iterrows(): # .iterrows() Indica que se recorrerá fila a fila\n",
    "    pdf.cell(100, 10, row[\"empresa_correcta\"], border=1) # Crea una celda y no hace salto de línea\n",
    "    # border=1 indica que se añade un borde a la celda\n",
    "    pdf.cell(50, 10, f\"${row['monto']:.2f}\", border=1, ln=True) # Crea una celda y hace salto de línea\n",
    "\n",
    "pdf.ln(10)\n"
   ]
  },
  {
   "cell_type": "code",
   "execution_count": 33,
   "id": "0f52e142",
   "metadata": {},
   "outputs": [],
   "source": [
    "# 7. Agregamos la tabla de ventas por vendedor\n",
    "# No es necesario volver a definir el font\n",
    "pdf.cell(200, 10, \"Monto Vendido por Vendedor\", ln=True, align=\"C\")\n",
    "pdf.ln(5)\n",
    "\n",
    "for index, row in ventas_por_vendedor.iterrows():\n",
    "    pdf.cell(100, 10, row[\"vendedor\"], border=1)\n",
    "    pdf.cell(50, 10, f\"${row['monto']:.2f}\", border=1, ln=True)\n",
    "\n",
    "pdf.ln(10)\n"
   ]
  },
  {
   "cell_type": "code",
   "execution_count": 34,
   "id": "69c43810",
   "metadata": {},
   "outputs": [],
   "source": [
    "# 8. Insertamos los gráficos en el PDF\n",
    "pdf.cell(200, 10, \"Grafico: Monto Vendido por Empresa\", ln=True, align=\"C\")\n",
    "pdf.image(\"ventas_por_empresa.png\", x=10, w=180)\n",
    "pdf.ln(10)\n",
    "\n",
    "pdf.cell(200, 10, \"Grafico: Monto Vendido por Vendedor\", ln=True, align=\"C\")\n",
    "pdf.image(\"ventas_por_vendedor.png\", x=10, w=180)\n",
    "pdf.ln(10)\n"
   ]
  },
  {
   "cell_type": "code",
   "execution_count": 35,
   "id": "90f71c14",
   "metadata": {},
   "outputs": [
    {
     "name": "stdout",
     "output_type": "stream",
     "text": [
      "✅ PDF generado con éxito: reporte_ventas.pdf\n"
     ]
    }
   ],
   "source": [
    "# 9. Guardar PDF\n",
    "pdf.output(\"reporte_ventas.pdf\") # Lo guarda con el nombre entregado\n",
    "\n",
    "print(\"✅ PDF generado con éxito: reporte_ventas.pdf\")"
   ]
  }
 ],
 "metadata": {
  "kernelspec": {
   "display_name": "Python 3",
   "language": "python",
   "name": "python3"
  },
  "language_info": {
   "codemirror_mode": {
    "name": "ipython",
    "version": 3
   },
   "file_extension": ".py",
   "mimetype": "text/x-python",
   "name": "python",
   "nbconvert_exporter": "python",
   "pygments_lexer": "ipython3",
   "version": "3.12.6"
  }
 },
 "nbformat": 4,
 "nbformat_minor": 5
}
